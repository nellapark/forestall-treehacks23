{
 "cells": [
  {
   "cell_type": "code",
   "execution_count": 3,
   "id": "ae1c8689",
   "metadata": {},
   "outputs": [],
   "source": [
    "import iris"
   ]
  },
  {
   "cell_type": "code",
   "execution_count": 4,
   "id": "a464ac8d",
   "metadata": {},
   "outputs": [
    {
     "name": "stdout",
     "output_type": "stream",
     "text": [
      "k8s-c1bc749b-a7700a03-9795ff8c89-412048d456f1f671.elb.us-east-1.amazonaws.com:1972/USER\n",
      "SQLAdmin\n",
      "Database123!\n"
     ]
    },
    {
     "ename": "timeout",
     "evalue": "timed out",
     "output_type": "error",
     "traceback": [
      "\u001b[0;31m---------------------------------------------------------------------------\u001b[0m",
      "\u001b[0;31mtimeout\u001b[0m                                   Traceback (most recent call last)",
      "Cell \u001b[0;32mIn[4], line 11\u001b[0m\n\u001b[1;32m      9\u001b[0m \u001b[38;5;28mprint\u001b[39m(username)\n\u001b[1;32m     10\u001b[0m \u001b[38;5;28mprint\u001b[39m(password)\n\u001b[0;32m---> 11\u001b[0m connection \u001b[38;5;241m=\u001b[39m \u001b[43miris\u001b[49m\u001b[38;5;241;43m.\u001b[39;49m\u001b[43mconnect\u001b[49m\u001b[43m(\u001b[49m\u001b[43mconnection_string\u001b[49m\u001b[43m,\u001b[49m\u001b[43m \u001b[49m\u001b[43musername\u001b[49m\u001b[38;5;241;43m=\u001b[39;49m\u001b[43musername\u001b[49m\u001b[43m,\u001b[49m\u001b[43m \u001b[49m\u001b[43mpassword\u001b[49m\u001b[38;5;241;43m=\u001b[39;49m\u001b[43mpassword\u001b[49m\u001b[43m)\u001b[49m\n",
      "File \u001b[0;32m~/.virtualenvs/treehacks2023/lib/python3.9/site-packages/iris/_IRISNative.py:167\u001b[0m, in \u001b[0;36mconnect\u001b[0;34m(connectionstr, hostname, port, namespace, username, password, timeout, sharedmemory, logfile, sslcontext, autoCommit, isolationLevel, featureOptions, *args)\u001b[0m\n\u001b[1;32m    165\u001b[0m connection \u001b[38;5;241m=\u001b[39m iris\u001b[38;5;241m.\u001b[39mIRISConnection()\n\u001b[1;32m    166\u001b[0m connection\u001b[38;5;241m.\u001b[39m_disable_output_redirect \u001b[38;5;241m=\u001b[39m \u001b[38;5;28;01mTrue\u001b[39;00m\n\u001b[0;32m--> 167\u001b[0m \u001b[43mconnection\u001b[49m\u001b[38;5;241;43m.\u001b[39;49m\u001b[43m_connect\u001b[49m\u001b[43m(\u001b[49m\u001b[43mhostname\u001b[49m\u001b[43m,\u001b[49m\u001b[43m \u001b[49m\u001b[43mport\u001b[49m\u001b[43m,\u001b[49m\u001b[43m \u001b[49m\u001b[43mnamespace\u001b[49m\u001b[43m,\u001b[49m\u001b[43m \u001b[49m\u001b[43musername\u001b[49m\u001b[43m,\u001b[49m\u001b[43m \u001b[49m\u001b[43mpassword\u001b[49m\u001b[43m,\u001b[49m\u001b[43m \u001b[49m\u001b[43mtimeout\u001b[49m\u001b[43m,\u001b[49m\u001b[43m \u001b[49m\u001b[43msharedmemory\u001b[49m\u001b[43m,\u001b[49m\u001b[43m \u001b[49m\u001b[43mlogfile\u001b[49m\u001b[43m,\u001b[49m\u001b[43m \u001b[49m\u001b[43msslcontext\u001b[49m\u001b[43m,\u001b[49m\u001b[43m \u001b[49m\u001b[43mautoCommit\u001b[49m\u001b[43m,\u001b[49m\u001b[43m \u001b[49m\u001b[43misolationLevel\u001b[49m\u001b[43m,\u001b[49m\u001b[43m \u001b[49m\u001b[43mfeatureOptions\u001b[49m\u001b[43m)\u001b[49m\n\u001b[1;32m    168\u001b[0m \u001b[38;5;28;01mreturn\u001b[39;00m connection\n",
      "File \u001b[0;32m~/.virtualenvs/treehacks2023/lib/python3.9/site-packages/iris/_IRISConnection.py:282\u001b[0m, in \u001b[0;36m_IRISConnection._connect\u001b[0;34m(self, hostname, port, namespace, username, password, timeout, sharedmemory, logfile, sslcontext, autoCommit, isolationLevel, featureOptions)\u001b[0m\n\u001b[1;32m    280\u001b[0m         \u001b[38;5;28mself\u001b[39m\u001b[38;5;241m.\u001b[39m_device\u001b[38;5;241m.\u001b[39mclose()\n\u001b[1;32m    281\u001b[0m         \u001b[38;5;28mself\u001b[39m\u001b[38;5;241m.\u001b[39m_device \u001b[38;5;241m=\u001b[39m \u001b[38;5;28;01mNone\u001b[39;00m\n\u001b[0;32m--> 282\u001b[0m     \u001b[38;5;28;01mraise\u001b[39;00m e\n\u001b[1;32m    283\u001b[0m \u001b[38;5;28;01mreturn\u001b[39;00m\n",
      "File \u001b[0;32m~/.virtualenvs/treehacks2023/lib/python3.9/site-packages/iris/_IRISConnection.py:181\u001b[0m, in \u001b[0;36m_IRISConnection._connect\u001b[0;34m(self, hostname, port, namespace, username, password, timeout, sharedmemory, logfile, sslcontext, autoCommit, isolationLevel, featureOptions)\u001b[0m\n\u001b[1;32m    179\u001b[0m \u001b[38;5;28mself\u001b[39m\u001b[38;5;241m.\u001b[39m_device \u001b[38;5;241m=\u001b[39m iris\u001b[38;5;241m.\u001b[39m_Device\u001b[38;5;241m.\u001b[39m_Device(\u001b[38;5;28mself\u001b[39m, \u001b[38;5;28;01mNone\u001b[39;00m, sslcontext) \n\u001b[1;32m    180\u001b[0m \u001b[38;5;28mself\u001b[39m\u001b[38;5;241m.\u001b[39m_device\u001b[38;5;241m.\u001b[39msettimeout(timeout) \n\u001b[0;32m--> 181\u001b[0m \u001b[38;5;28;43mself\u001b[39;49m\u001b[38;5;241;43m.\u001b[39;49m\u001b[43m_device\u001b[49m\u001b[38;5;241;43m.\u001b[39;49m\u001b[43mconnect\u001b[49m\u001b[43m(\u001b[49m\u001b[43mserver_address\u001b[49m\u001b[43m)\u001b[49m \n\u001b[1;32m    182\u001b[0m \u001b[38;5;28mself\u001b[39m\u001b[38;5;241m.\u001b[39m_in_message \u001b[38;5;241m=\u001b[39m iris\u001b[38;5;241m.\u001b[39m_InStream\u001b[38;5;241m.\u001b[39m_InStream(\u001b[38;5;28mself\u001b[39m)\n\u001b[1;32m    183\u001b[0m \u001b[38;5;28mself\u001b[39m\u001b[38;5;241m.\u001b[39m_out_message \u001b[38;5;241m=\u001b[39m iris\u001b[38;5;241m.\u001b[39m_OutStream\u001b[38;5;241m.\u001b[39m_OutStream(\u001b[38;5;28mself\u001b[39m)\n",
      "File \u001b[0;32m~/.virtualenvs/treehacks2023/lib/python3.9/site-packages/iris/_Device.py:31\u001b[0m, in \u001b[0;36m_Device.connect\u001b[0;34m(self, server_address)\u001b[0m\n\u001b[1;32m     29\u001b[0m \u001b[38;5;28;01mdef\u001b[39;00m \u001b[38;5;21mconnect\u001b[39m(\u001b[38;5;28mself\u001b[39m, server_address):\n\u001b[1;32m     30\u001b[0m     \u001b[38;5;28;01mif\u001b[39;00m \u001b[38;5;28mself\u001b[39m\u001b[38;5;241m.\u001b[39m_sslcontext \u001b[38;5;129;01mis\u001b[39;00m \u001b[38;5;28;01mNone\u001b[39;00m:\n\u001b[0;32m---> 31\u001b[0m         \u001b[38;5;28;01mreturn\u001b[39;00m \u001b[38;5;28;43mself\u001b[39;49m\u001b[38;5;241;43m.\u001b[39;49m\u001b[43m_socket\u001b[49m\u001b[38;5;241;43m.\u001b[39;49m\u001b[43mconnect\u001b[49m\u001b[43m(\u001b[49m\u001b[43mserver_address\u001b[49m\u001b[43m)\u001b[49m\n\u001b[1;32m     32\u001b[0m     \u001b[38;5;28;01melse\u001b[39;00m:\n\u001b[1;32m     33\u001b[0m         \u001b[38;5;28mself\u001b[39m\u001b[38;5;241m.\u001b[39m_socket \u001b[38;5;241m=\u001b[39m \u001b[38;5;28mself\u001b[39m\u001b[38;5;241m.\u001b[39m_sslcontext\u001b[38;5;241m.\u001b[39mwrap_socket(\u001b[38;5;28mself\u001b[39m\u001b[38;5;241m.\u001b[39m_socket, server_hostname \u001b[38;5;241m=\u001b[39m server_address[\u001b[38;5;241m0\u001b[39m])\n",
      "\u001b[0;31mtimeout\u001b[0m: timed out"
     ]
    }
   ],
   "source": [
    "#Connection code\n",
    "hostname=\"k8s-c1bc749b-a7700a03-9795ff8c89-412048d456f1f671.elb.us-east-1.amazonaws.com\"\n",
    "port=1972\n",
    "namespace=\"USER\"\n",
    "connection_string=hostname+':'+str(port)+'/'+namespace\n",
    "username=\"SQLAdmin\"\n",
    "password=\"Database123!\"\n",
    "print(connection_string)\n",
    "print(username)\n",
    "print(password)\n",
    "connection = iris.connect(connection_string, username=username, password=password)"
   ]
  },
  {
   "cell_type": "code",
   "execution_count": 2,
   "id": "40242b72",
   "metadata": {},
   "outputs": [],
   "source": [
    "s=9"
   ]
  },
  {
   "cell_type": "code",
   "execution_count": null,
   "id": "1dd035b5",
   "metadata": {},
   "outputs": [],
   "source": []
  }
 ],
 "metadata": {
  "kernelspec": {
   "display_name": "Python 3 (ipykernel)",
   "language": "python",
   "name": "python3"
  },
  "language_info": {
   "codemirror_mode": {
    "name": "ipython",
    "version": 3
   },
   "file_extension": ".py",
   "mimetype": "text/x-python",
   "name": "python",
   "nbconvert_exporter": "python",
   "pygments_lexer": "ipython3",
   "version": "3.9.7"
  }
 },
 "nbformat": 4,
 "nbformat_minor": 5
}
